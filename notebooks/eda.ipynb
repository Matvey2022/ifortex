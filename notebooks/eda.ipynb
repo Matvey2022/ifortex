{
 "cells": [
  {
   "cell_type": "markdown",
   "id": "7f153c82",
   "metadata": {},
   "source": [
    "## EDA Section <br>\n",
    "**Was created by:** Matsvei Makhnou<br><br>\n",
    "**Short description:** <br>In this notebook I'll explore ma data. In the end u will be able to find a conclusion on what to do with data and what kind of model i will use to train my model.\n",
    "\n",
    "#### Section for novigating through the notebook:\n",
    "[Conclusion and Reccomendations](#conclusion) - Canclusion and Recommendations after EDA  <br>"
   ]
  },
  {
   "cell_type": "code",
   "execution_count": 1,
   "id": "dcf97513",
   "metadata": {},
   "outputs": [],
   "source": [
    "import pandas as pd"
   ]
  },
  {
   "cell_type": "code",
   "execution_count": 2,
   "id": "c7b46202",
   "metadata": {},
   "outputs": [
    {
     "name": "stdout",
     "output_type": "stream",
     "text": [
      "DataFrame loaded successfully.\n"
     ]
    }
   ],
   "source": [
    "path = \"/workspaces/ifortex/student_exam_data.csv\"\n",
    "\n",
    "df = pd.read_csv(path)\n",
    "print(\"DataFrame loaded successfully.\")"
   ]
  },
  {
   "cell_type": "code",
   "execution_count": 3,
   "id": "03bb81d7",
   "metadata": {},
   "outputs": [
    {
     "data": {
      "text/html": [
       "<div>\n",
       "<style scoped>\n",
       "    .dataframe tbody tr th:only-of-type {\n",
       "        vertical-align: middle;\n",
       "    }\n",
       "\n",
       "    .dataframe tbody tr th {\n",
       "        vertical-align: top;\n",
       "    }\n",
       "\n",
       "    .dataframe thead th {\n",
       "        text-align: right;\n",
       "    }\n",
       "</style>\n",
       "<table border=\"1\" class=\"dataframe\">\n",
       "  <thead>\n",
       "    <tr style=\"text-align: right;\">\n",
       "      <th></th>\n",
       "      <th>Контрольная 1</th>\n",
       "      <th>Контрольная 2</th>\n",
       "      <th>Контрольная 3</th>\n",
       "      <th>Сон накануне</th>\n",
       "      <th>Настроение</th>\n",
       "      <th>Энергетиков накануне</th>\n",
       "      <th>Посещаемость занятий</th>\n",
       "      <th>Время подготовки</th>\n",
       "      <th>Сдал</th>\n",
       "    </tr>\n",
       "  </thead>\n",
       "  <tbody>\n",
       "    <tr>\n",
       "      <th>0</th>\n",
       "      <td>4</td>\n",
       "      <td>4</td>\n",
       "      <td>9</td>\n",
       "      <td>Нет</td>\n",
       "      <td>Хорошее</td>\n",
       "      <td>4+</td>\n",
       "      <td>Низкая</td>\n",
       "      <td>За неделю</td>\n",
       "      <td>Нет</td>\n",
       "    </tr>\n",
       "    <tr>\n",
       "      <th>1</th>\n",
       "      <td>9</td>\n",
       "      <td>9</td>\n",
       "      <td>6</td>\n",
       "      <td>Да</td>\n",
       "      <td>Плохое</td>\n",
       "      <td>1</td>\n",
       "      <td>Средняя</td>\n",
       "      <td>Последний час</td>\n",
       "      <td>Да</td>\n",
       "    </tr>\n",
       "    <tr>\n",
       "      <th>2</th>\n",
       "      <td>8</td>\n",
       "      <td>6</td>\n",
       "      <td>9</td>\n",
       "      <td>Да</td>\n",
       "      <td>Хорошее</td>\n",
       "      <td>2-3</td>\n",
       "      <td>Средняя</td>\n",
       "      <td>Последний час</td>\n",
       "      <td>Да</td>\n",
       "    </tr>\n",
       "    <tr>\n",
       "      <th>3</th>\n",
       "      <td>8</td>\n",
       "      <td>4</td>\n",
       "      <td>9</td>\n",
       "      <td>Да</td>\n",
       "      <td>Хорошее</td>\n",
       "      <td>1</td>\n",
       "      <td>Высокая</td>\n",
       "      <td>Последняя ночь</td>\n",
       "      <td>Да</td>\n",
       "    </tr>\n",
       "    <tr>\n",
       "      <th>4</th>\n",
       "      <td>9</td>\n",
       "      <td>10</td>\n",
       "      <td>4</td>\n",
       "      <td>Нет</td>\n",
       "      <td>Нормальное</td>\n",
       "      <td>1</td>\n",
       "      <td>Низкая</td>\n",
       "      <td>Последний час</td>\n",
       "      <td>Да</td>\n",
       "    </tr>\n",
       "  </tbody>\n",
       "</table>\n",
       "</div>"
      ],
      "text/plain": [
       "   Контрольная 1  Контрольная 2  Контрольная 3 Сон накануне  Настроение  \\\n",
       "0              4              4              9          Нет     Хорошее   \n",
       "1              9              9              6           Да      Плохое   \n",
       "2              8              6              9           Да     Хорошее   \n",
       "3              8              4              9           Да     Хорошее   \n",
       "4              9             10              4          Нет  Нормальное   \n",
       "\n",
       "  Энергетиков накануне Посещаемость занятий Время подготовки Сдал  \n",
       "0                   4+               Низкая        За неделю  Нет  \n",
       "1                    1              Средняя    Последний час   Да  \n",
       "2                  2-3              Средняя    Последний час   Да  \n",
       "3                    1              Высокая   Последняя ночь   Да  \n",
       "4                    1               Низкая    Последний час   Да  "
      ]
     },
     "execution_count": 3,
     "metadata": {},
     "output_type": "execute_result"
    }
   ],
   "source": [
    "df.head()"
   ]
  },
  {
   "cell_type": "code",
   "execution_count": 4,
   "id": "61081f7c",
   "metadata": {},
   "outputs": [
    {
     "name": "stdout",
     "output_type": "stream",
     "text": [
      "<class 'pandas.core.frame.DataFrame'>\n",
      "RangeIndex: 300 entries, 0 to 299\n",
      "Data columns (total 9 columns):\n",
      " #   Column                Non-Null Count  Dtype \n",
      "---  ------                --------------  ----- \n",
      " 0   Контрольная 1         300 non-null    int64 \n",
      " 1   Контрольная 2         300 non-null    int64 \n",
      " 2   Контрольная 3         300 non-null    int64 \n",
      " 3   Сон накануне          300 non-null    object\n",
      " 4   Настроение            300 non-null    object\n",
      " 5   Энергетиков накануне  300 non-null    object\n",
      " 6   Посещаемость занятий  300 non-null    object\n",
      " 7   Время подготовки      300 non-null    object\n",
      " 8   Сдал                  300 non-null    object\n",
      "dtypes: int64(3), object(6)\n",
      "memory usage: 21.2+ KB\n"
     ]
    }
   ],
   "source": [
    "df.info()"
   ]
  },
  {
   "cell_type": "markdown",
   "id": "7c60984d",
   "metadata": {},
   "source": [
    "As we can clearly see above we don't have any missing data. And we have just 3 numerical features, so we have to learn a bit more about our categorical features.\n"
   ]
  },
  {
   "cell_type": "code",
   "execution_count": null,
   "id": "3de050a2",
   "metadata": {},
   "outputs": [
    {
     "data": {
      "text/html": [
       "<div>\n",
       "<style scoped>\n",
       "    .dataframe tbody tr th:only-of-type {\n",
       "        vertical-align: middle;\n",
       "    }\n",
       "\n",
       "    .dataframe tbody tr th {\n",
       "        vertical-align: top;\n",
       "    }\n",
       "\n",
       "    .dataframe thead th {\n",
       "        text-align: right;\n",
       "    }\n",
       "</style>\n",
       "<table border=\"1\" class=\"dataframe\">\n",
       "  <thead>\n",
       "    <tr style=\"text-align: right;\">\n",
       "      <th></th>\n",
       "      <th>count</th>\n",
       "      <th>mean</th>\n",
       "      <th>std</th>\n",
       "      <th>min</th>\n",
       "      <th>25%</th>\n",
       "      <th>50%</th>\n",
       "      <th>75%</th>\n",
       "      <th>max</th>\n",
       "    </tr>\n",
       "  </thead>\n",
       "  <tbody>\n",
       "    <tr>\n",
       "      <th>Контрольная 1</th>\n",
       "      <td>300.0</td>\n",
       "      <td>7.130000</td>\n",
       "      <td>2.003283</td>\n",
       "      <td>4.0</td>\n",
       "      <td>5.0</td>\n",
       "      <td>7.0</td>\n",
       "      <td>9.0</td>\n",
       "      <td>10.0</td>\n",
       "    </tr>\n",
       "    <tr>\n",
       "      <th>Контрольная 2</th>\n",
       "      <td>300.0</td>\n",
       "      <td>6.936667</td>\n",
       "      <td>2.009839</td>\n",
       "      <td>4.0</td>\n",
       "      <td>5.0</td>\n",
       "      <td>7.0</td>\n",
       "      <td>9.0</td>\n",
       "      <td>10.0</td>\n",
       "    </tr>\n",
       "    <tr>\n",
       "      <th>Контрольная 3</th>\n",
       "      <td>300.0</td>\n",
       "      <td>6.940000</td>\n",
       "      <td>2.028987</td>\n",
       "      <td>4.0</td>\n",
       "      <td>5.0</td>\n",
       "      <td>7.0</td>\n",
       "      <td>9.0</td>\n",
       "      <td>10.0</td>\n",
       "    </tr>\n",
       "  </tbody>\n",
       "</table>\n",
       "</div>"
      ],
      "text/plain": [
       "               count      mean       std  min  25%  50%  75%   max\n",
       "Контрольная 1  300.0  7.130000  2.003283  4.0  5.0  7.0  9.0  10.0\n",
       "Контрольная 2  300.0  6.936667  2.009839  4.0  5.0  7.0  9.0  10.0\n",
       "Контрольная 3  300.0  6.940000  2.028987  4.0  5.0  7.0  9.0  10.0"
      ]
     },
     "execution_count": 8,
     "metadata": {},
     "output_type": "execute_result"
    }
   ],
   "source": [
    "df.describe().T"
   ]
  },
  {
   "cell_type": "code",
   "execution_count": null,
   "id": "58365ce4",
   "metadata": {},
   "outputs": [
    {
     "name": "stdout",
     "output_type": "stream",
     "text": [
      "Unique values in Сон накануне:\n",
      "['Нет' 'Да']\n",
      "\n",
      "Unique values in Настроение:\n",
      "['Хорошее' 'Плохое' 'Нормальное']\n",
      "\n",
      "Unique values in Энергетиков накануне:\n",
      "['4+' '1' '2-3' '0']\n",
      "\n",
      "Unique values in Посещаемость занятий:\n",
      "['Низкая' 'Средняя' 'Высокая']\n",
      "\n",
      "Unique values in Время подготовки:\n",
      "['За неделю' 'Последний час' 'Последняя ночь' 'За несколько дней']\n",
      "\n",
      "Number of duplicate rows: 0\n"
     ]
    }
   ],
   "source": [
    "categorical_columns = [\n",
    "    \"Сон накануне\",\n",
    "    \"Настроение\",\n",
    "    \"Энергетиков накануне\",\n",
    "    \"Посещаемость занятий\",\n",
    "    \"Время подготовки\",\n",
    "]\n",
    "for col in categorical_columns:\n",
    "    print(f\"Unique values in {col}:\")\n",
    "    print(df[col].unique())\n",
    "    print()\n",
    "\n",
    "# Check for duplicates\n",
    "duplicates = df.duplicated().sum()\n",
    "print(f\"Number of duplicate rows: {duplicates}\")"
   ]
  },
  {
   "cell_type": "code",
   "execution_count": 23,
   "id": "3f26aa68",
   "metadata": {},
   "outputs": [
    {
     "data": {
      "text/plain": [
       "Сдал\n",
       "Да     193\n",
       "Нет    107\n",
       "Name: count, dtype: int64"
      ]
     },
     "execution_count": 23,
     "metadata": {},
     "output_type": "execute_result"
    }
   ],
   "source": [
    "df[\"Сдал\"].value_counts()"
   ]
  },
  {
   "cell_type": "markdown",
   "id": "217ea29c",
   "metadata": {},
   "source": [
    "### <a id =  'conclusion'> Conclusion and Reccomendations </a>\n",
    "Based on the exploratory data analysis (EDA), the following insights and decisions have been made:\n",
    "#### Model Selection:\\,\n",
    "- A **CatBoost** model will be used for training due to its ability to handle categorical features natively without requiring extensive preprocessing.\n",
    "- Given the small dataset size (300 samples), **cross-validation** will be employed to ensure robust evaluation and prevent overfitting.\n",
    "#### Handling Categorical Features (recommendation if u want to build ur own model):\n",
    "The dataset contains 5 categorical features, and the following preprocessing strategies are recommended:\n",
    "1. **`Сон накануне`**: Convert \\\"yes\\\" to 1 and \\\"no\\\" to 0 (binary encoding).\n",
    "2. **`Настроение`**: Map values to an ordinal scale [1, 2, 3, 4, 5], as the order of values is meaningful.\n",
    "3. **`Посещаемость занятий`**: Similar to `Настроение`, map values to an ordinal scale [1, 2, 3, 4, 5].\n",
    "4. **`Время подготовки`**: Apply **One-Hot Encoding**, as there is no inherent order in the categories.\n",
    "5. **`Энергетиков накануне`**: Two approaches are suggested:\n",
    "- **One-Hot Encoding**: Treat each category (0, 1, 2-3, 4+) as distinct.\n",
    "- **Ordinal Encoding**: Map categories to [1, 2, 3, 4], assuming the number of energy drinks consumed might have an ordinal relationship.\n",
    "- Experiment with both approaches to determine which yields better results.\n",
    "#### Data Imbalance:\n",
    "- The target variable (`Сдал`) is imbalanced. Consider the following techniques to address this:\n",
    "- Use **class weights** in the CatBoost model.\n",
    "- Apply **oversampling** (e.g., SMOTE) or **undersampling** techniques.\n",
    "- Evaluate metrics like **F1-score**, **precision**, and **recall** instead of accuracy to assess model performance.\n",
    "\n",
    "#### Additional Notes:\n",
    "- Ensure proper feature scaling for numerical features if required by other models in the future.\n",
    "- Validate preprocessing steps and model performance using cross-validation to avoid data leakage.\n",
    "- Document the results of experiments with different encoding strategies and imbalance handling techniques for reproducibility.\n",
    "By following these recommendations, the dataset is well-prepared for training a robust and interpretable model.\""
   ]
  }
 ],
 "metadata": {
  "kernelspec": {
   "display_name": ".venv",
   "language": "python",
   "name": "python3"
  },
  "language_info": {
   "codemirror_mode": {
    "name": "ipython",
    "version": 3
   },
   "file_extension": ".py",
   "mimetype": "text/x-python",
   "name": "python",
   "nbconvert_exporter": "python",
   "pygments_lexer": "ipython3",
   "version": "3.12.10"
  }
 },
 "nbformat": 4,
 "nbformat_minor": 5
}
